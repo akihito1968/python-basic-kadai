{
  "nbformat": 4,
  "nbformat_minor": 0,
  "metadata": {
    "colab": {
      "provenance": []
    },
    "kernelspec": {
      "name": "python3",
      "display_name": "Python 3"
    },
    "language_info": {
      "name": "python"
    }
  },
  "cells": [
    {
      "cell_type": "code",
      "source": [
        "class Human:\n",
        "    def __init__(self, name, age):\n",
        "        self.name = name\n",
        "        self.age = age\n",
        "\n",
        "    def    printinfo(self):\n",
        "        print(f\"名前:{self.name} 年齢:{self.age}歳\")\n",
        "\n",
        "human = Human(\"aki\" , \"50\")\n",
        "\n",
        "human.printinfo()\n"
      ],
      "metadata": {
        "colab": {
          "base_uri": "https://localhost:8080/"
        },
        "id": "gajfP8OErwEk",
        "outputId": "53dc5e5e-aee3-4194-d5c9-6feb310003cb"
      },
      "execution_count": 2,
      "outputs": [
        {
          "output_type": "stream",
          "name": "stdout",
          "text": [
            "名前:aki 年齢:50歳\n"
          ]
        }
      ]
    }
  ]
}