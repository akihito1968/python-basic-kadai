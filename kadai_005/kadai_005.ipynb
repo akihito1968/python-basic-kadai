{
  "cells": [
    {
      "cell_type": "code",
      "execution_count": null,
      "metadata": {
        "colab": {
          "base_uri": "https://localhost:8080/"
        },
        "id": "Ri60wmN4UHnI",
        "outputId": "aff25404-4473-4da6-9794-0d9fd694d2c2"
      },
      "outputs": [
        {
          "name": "stdout",
          "output_type": "stream",
          "text": [
            "3\n"
          ]
        }
      ],
      "source": [
        "print(1+2)\n"
      ]
    },
    {
      "cell_type": "markdown",
      "metadata": {
        "id": "s9cMti7gU374"
      },
      "source": []
    },
    {
      "cell_type": "code",
      "execution_count": null,
      "metadata": {
        "colab": {
          "base_uri": "https://localhost:8080/"
        },
        "id": "j8fUg82IU-Ci",
        "outputId": "1fffd78a-52f3-4da4-a147-5e466cf08473"
      },
      "outputs": [
        {
          "name": "stdout",
          "output_type": "stream",
          "text": [
            "-100\n"
          ]
        }
      ],
      "source": [
        "print(-100)\n"
      ]
    },
    {
      "cell_type": "code",
      "execution_count": null,
      "metadata": {
        "colab": {
          "base_uri": "https://localhost:8080/"
        },
        "id": "o_ISsSjpVcgg",
        "outputId": "55f499b3-b165-4254-e8ca-2742edc92598"
      },
      "outputs": [
        {
          "name": "stdout",
          "output_type": "stream",
          "text": [
            "こんにちは\n"
          ]
        }
      ],
      "source": [
        "print(\"こんにちは\")"
      ]
    },
    {
      "cell_type": "code",
      "execution_count": null,
      "metadata": {
        "colab": {
          "base_uri": "https://localhost:8080/"
        },
        "id": "ucK5Fz6UVsPX",
        "outputId": "d44a129f-b6bb-4cdf-f4e1-f042dcc32a16"
      },
      "outputs": [
        {
          "name": "stdout",
          "output_type": "stream",
          "text": [
            "0.1\n"
          ]
        }
      ],
      "source": [
        "print(0.1)"
      ]
    },
    {
      "cell_type": "code",
      "execution_count": null,
      "metadata": {
        "colab": {
          "base_uri": "https://localhost:8080/"
        },
        "id": "iKtl40rEWjE3",
        "outputId": "154123a0-3a54-45af-ffa7-6869dc6c85fe"
      },
      "outputs": [
        {
          "name": "stdout",
          "output_type": "stream",
          "text": [
            "True\n",
            "False\n"
          ]
        }
      ],
      "source": [
        "print(True)\n",
        "print(False)\n"
      ]
    },
    {
      "cell_type": "code",
      "execution_count": null,
      "metadata": {
        "colab": {
          "base_uri": "https://localhost:8080/"
        },
        "id": "T67qzULDW6Ph",
        "outputId": "4d0e298b-e656-4333-c8d2-a3354c6a2f27"
      },
      "outputs": [
        {
          "name": "stdout",
          "output_type": "stream",
          "text": [
            "63\n",
            "18\n",
            "90\n",
            "10.0\n",
            "5\n"
          ]
        }
      ],
      "source": [
        "print(45 + 18)\n",
        "print(30 - 12)\n",
        "print(15 * 6)\n",
        "print(30 / 3)\n",
        "print(45 % 8)\n"
      ]
    },
    {
      "cell_type": "code",
      "execution_count": null,
      "metadata": {
        "colab": {
          "base_uri": "https://localhost:8080/"
        },
        "id": "N-lJqXTXYymy",
        "outputId": "430d5899-b814-465c-e0c9-7e9633cab40e"
      },
      "outputs": [
        {
          "name": "stdout",
          "output_type": "stream",
          "text": [
            "46.8\n",
            "1.8\n",
            "9.0\n",
            "10.0\n",
            "0.1999999999999975\n"
          ]
        }
      ],
      "source": [
        "print(45 + 1.8)\n",
        "print(3 - 1.2)\n",
        "print(15 * 0.6)\n",
        "print(3 / 0.3)\n",
        "print(45 % 0.8)\n"
      ]
    },
    {
      "cell_type": "code",
      "execution_count": null,
      "metadata": {
        "colab": {
          "base_uri": "https://localhost:8080/"
        },
        "id": "G7eV2yUuZ3rR",
        "outputId": "560b87ad-eb81-4c6f-9ee5-f8b60c15bdef"
      },
      "outputs": [
        {
          "name": "stdout",
          "output_type": "stream",
          "text": [
            "今日の天気は 晴れ\n",
            "今日の天気は曇り\n"
          ]
        }
      ],
      "source": [
        "print(\"今日の天気は\" +\" 晴れ\")\n",
        "print(\"今日の天気は\" \"曇り\")"
      ]
    },
    {
      "cell_type": "code",
      "execution_count": null,
      "metadata": {
        "colab": {
          "base_uri": "https://localhost:8080/"
        },
        "id": "uGHECCtYbmJw",
        "outputId": "f5e57eed-83eb-4223-bf77-e84fd566a3a8"
      },
      "outputs": [
        {
          "name": "stdout",
          "output_type": "stream",
          "text": [
            "降水確立50%\n"
          ]
        }
      ],
      "source": [
        "print(\"降水確立\" + str(50) + \"%\")"
      ]
    },
    {
      "cell_type": "code",
      "execution_count": null,
      "metadata": {
        "colab": {
          "base_uri": "https://localhost:8080/"
        },
        "id": "36GSBEmUlW29",
        "outputId": "15831111-6c78-4d97-c611-f3520957e27a"
      },
      "outputs": [
        {
          "name": "stdout",
          "output_type": "stream",
          "text": [
            "晴れ晴れ晴れ晴れ晴れ\n",
            "晴れ晴れ晴れ晴れ晴れ\n"
          ]
        }
      ],
      "source": [
        "print(\"晴れ\" * 5)\n",
        "print(\"晴れ\" + \"晴れ\" + \"晴れ\" + \"晴れ\" + \"晴れ\")"
      ]
    },
    {
      "cell_type": "code",
      "execution_count": null,
      "metadata": {
        "colab": {
          "base_uri": "https://localhost:8080/"
        },
        "id": "2wPSSD4SgGyQ",
        "outputId": "6746fff5-45eb-4337-c26a-3be59d23eda9"
      },
      "outputs": [
        {
          "name": "stdout",
          "output_type": "stream",
          "text": [
            "サナ\n"
          ]
        }
      ],
      "source": [
        "user_name = \"サナ\"\n",
        "print(user_name)"
      ]
    },
    {
      "cell_type": "code",
      "execution_count": null,
      "metadata": {
        "colab": {
          "base_uri": "https://localhost:8080/"
        },
        "id": "sMG7_xmTjEaz",
        "outputId": "3086ff24-d066-48a0-d95a-a033bf2d296a"
      },
      "outputs": [
        {
          "name": "stdout",
          "output_type": "stream",
          "text": [
            "昭仁\n",
            "サナ\n"
          ]
        }
      ],
      "source": [
        "user_name = \"昭仁\"\n",
        "print(user_name)\n",
        "\n",
        "user_name = \"サナ\"\n",
        "print(user_name)\n"
      ]
    },
    {
      "cell_type": "code",
      "execution_count": null,
      "metadata": {
        "colab": {
          "base_uri": "https://localhost:8080/"
        },
        "id": "akWX8BiekSOT",
        "outputId": "0379fd11-22f0-44cc-eda5-deb3fc0417ee"
      },
      "outputs": [
        {
          "name": "stdout",
          "output_type": "stream",
          "text": [
            "7.5\n",
            "五味昭仁\n"
          ]
        }
      ],
      "source": [
        "#整数型と浮動小数点型の足し算\n",
        "number1 = 5\n",
        "number2 = 2.5\n",
        "print(number1 + number2)\n",
        "\n",
        "#文字列型と文字列型の連結\n",
        "last_name = \"五味\"\n",
        "first_name = \"昭仁\"\n",
        "print(last_name + first_name)\n"
      ]
    },
    {
      "cell_type": "code",
      "execution_count": null,
      "metadata": {
        "colab": {
          "base_uri": "https://localhost:8080/"
        },
        "id": "fiz00KbXobfl",
        "outputId": "dcd04322-5489-4c1c-85fc-e83e85cf9c0d"
      },
      "outputs": [
        {
          "name": "stdout",
          "output_type": "stream",
          "text": [
            "私の名前は五味 昭仁です。妹の名前はサナです。\n"
          ]
        }
      ],
      "source": [
        "last_name = \"五味\"\n",
        "first_name = \"昭仁\"\n",
        "sister_name = \"サナ\"\n",
        "\n",
        "#３つの変数を文字列内に埋め込んで表示\n",
        "print(f\"私の名前は{last_name} {first_name}です。妹の名前は{sister_name}です。\")\n"
      ]
    },
    {
      "cell_type": "code",
      "execution_count": null,
      "metadata": {
        "id": "sashSQixkzTx"
      },
      "outputs": [],
      "source": [
        "# 推奨\n",
        "snake_case = \"◎\" # 全部小文字・単語をアンダースコアで区切る\n",
        "snake      = \"◎\" # 1単語の場合はアンダースコアがなくてもOK\n",
        "\n",
        "# 非推奨（エラーにはならない）\n",
        "camelCase    = \"△\" # キャメルケースは非推奨\n",
        "ＳＮＡＫＥ   = \"△\" # 全角は非推奨\n",
        "snake_ケース = \"△\" # 日本語は非推奨\n",
        "\n",
        "# NG（そもそもエラーになる）\n",
        "1snake = \"×\"     # 先頭が数字は不可\n",
        "snake\\case = \"×\" # アンダースコア以外の記号は使用不可\n"
      ]
    },
    {
      "cell_type": "code",
      "execution_count": null,
      "metadata": {
        "id": "iJhyrjqrk8pH"
      },
      "outputs": [],
      "source": []
    },
    {
      "cell_type": "code",
      "execution_count": 3,
      "metadata": {},
      "outputs": [
        {
          "name": "stdout",
          "output_type": "stream",
          "text": [
            "75.0㎠\n"
          ]
        }
      ],
      "source": [
        "top_Line = 10\n",
        "under_Line = 20\n",
        "hight_Line = 5\n",
        "\n",
        "area = (top_Line + under_Line) * hight_Line / 2 #台型の面積\n",
        "\n",
        "print(str(area) + \"㎠\")   #計算結果を出力\n"
      ]
    }
  ],
  "metadata": {
    "colab": {
      "provenance": []
    },
    "kernelspec": {
      "display_name": "Python 3",
      "name": "python3"
    },
    "language_info": {
      "codemirror_mode": {
        "name": "ipython",
        "version": 3
      },
      "file_extension": ".py",
      "mimetype": "text/x-python",
      "name": "python",
      "nbconvert_exporter": "python",
      "pygments_lexer": "ipython3",
      "version": "3.9.6"
    }
  },
  "nbformat": 4,
  "nbformat_minor": 0
}
