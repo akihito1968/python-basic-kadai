{
  "nbformat": 4,
  "nbformat_minor": 0,
  "metadata": {
    "colab": {
      "provenance": []
    },
    "kernelspec": {
      "name": "python3",
      "display_name": "Python 3"
    },
    "language_info": {
      "name": "python"
    }
  },
  "cells": [
    {
      "cell_type": "code",
      "source": [
        "class Human:\n",
        "    def __init__(self, name, age) :\n",
        "        self.name = name\n",
        "        self.age = age\n",
        "\n",
        "    def check_adult(self) :\n",
        "        if self.age >= 20:\n",
        "            print(f\"{self.name}さんは{self.age}歳で大人です。\")\n",
        "        else:\n",
        "            print(f\"{self.name}さんは{self.age}歳で大人ではありません。\")\n",
        "\n",
        "human1 = Human(\"sana\", 18)\n",
        "human2 = Human(\"nayon\", 22)\n",
        "\n",
        "humans = [human1, human2]\n",
        "for human in humans:\n",
        "    human.check_adult()\n",
        "\n",
        ""
      ],
      "metadata": {
        "colab": {
          "base_uri": "https://localhost:8080/"
        },
        "id": "DvDg5I8r4_d2",
        "outputId": "07fba667-68c2-4424-8777-52b1a68d80c2"
      },
      "execution_count": 12,
      "outputs": [
        {
          "output_type": "stream",
          "name": "stdout",
          "text": [
            "sanaさんは18歳で大人ではありません。\n",
            "nayonさんは22歳で大人です。\n"
          ]
        }
      ]
    }
  ]
}