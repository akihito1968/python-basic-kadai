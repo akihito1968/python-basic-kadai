{
  "cells": [
    {
      "cell_type": "code",
      "execution_count": null,
      "metadata": {
        "id": "xZfh7xanXd17"
      },
      "outputs": [],
      "source": [
        "import random\n",
        "\n",
        "var = random.randint(0,50)\n",
        "\n",
        "if var % 3 == 0 and var % 5 == 0:\n",
        "    print(\"FizzBuzz\") \n",
        "\n",
        " elif var % 3 == 0: \n",
        "    print(\"Fizz\") \n",
        "\n",
        "elif var % 5 == 0: \n",
        "    print(\"Buzz\") \n",
        "\n",
        " else:\n",
        "    print(var)\n"
      ]
    }
  ],
  "metadata": {
    "colab": {
      "provenance": []
    },
    "kernelspec": {
      "display_name": "Python 3",
      "name": "python3"
    },
    "language_info": {
      "codemirror_mode": {
        "name": "ipython",
        "version": 3
      },
      "file_extension": ".py",
      "mimetype": "text/x-python",
      "name": "python",
      "nbconvert_exporter": "python",
      "pygments_lexer": "ipython3",
      "version": "3.9.6"
    }
  },
  "nbformat": 4,
  "nbformat_minor": 0
}
