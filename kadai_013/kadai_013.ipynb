{
  "nbformat": 4,
  "nbformat_minor": 0,
  "metadata": {
    "colab": {
      "provenance": []
    },
    "kernelspec": {
      "name": "python3",
      "display_name": "Python 3"
    },
    "language_info": {
      "name": "python"
    }
  },
  "cells": [
    {
      "cell_type": "code",
      "execution_count": 4,
      "metadata": {
        "colab": {
          "base_uri": "https://localhost:8080/"
        },
        "id": "KB10c7BYHwQm",
        "outputId": "beddde74-f411-47e0-f99e-57435b04f78a"
      },
      "outputs": [
        {
          "output_type": "stream",
          "name": "stdout",
          "text": [
            "税込11513.7円です。\n"
          ]
        }
      ],
      "source": [
        "def calculate_total(price, tax):\n",
        "    total = price * (1 + tax)\n",
        "    return total\n",
        "\n",
        "print(f\"税込{calculate_total(10467, 0.1)}円です。\")"
      ]
    }
  ]
}